{
 "cells": [
  {
   "cell_type": "markdown",
   "id": "f92a7496",
   "metadata": {},
   "source": [
    "# 1 Minute Chart Bitcoin Trading Stratgy Data Analysis"
   ]
  },
  {
   "cell_type": "markdown",
   "id": "adf6f8a7",
   "metadata": {},
   "source": [
    "Let's import all necessary **libraries** and read the **data**!"
   ]
  },
  {
   "cell_type": "code",
   "execution_count": 1,
   "id": "1034a545",
   "metadata": {},
   "outputs": [
    {
     "data": {
      "text/html": [
       "<div>\n",
       "<style scoped>\n",
       "    .dataframe tbody tr th:only-of-type {\n",
       "        vertical-align: middle;\n",
       "    }\n",
       "\n",
       "    .dataframe tbody tr th {\n",
       "        vertical-align: top;\n",
       "    }\n",
       "\n",
       "    .dataframe thead th {\n",
       "        text-align: right;\n",
       "    }\n",
       "</style>\n",
       "<table border=\"1\" class=\"dataframe\">\n",
       "  <thead>\n",
       "    <tr style=\"text-align: right;\">\n",
       "      <th></th>\n",
       "      <th>Day</th>\n",
       "      <th>Result</th>\n",
       "      <th>Benefit</th>\n",
       "      <th>Commission</th>\n",
       "      <th>Total</th>\n",
       "    </tr>\n",
       "  </thead>\n",
       "  <tbody>\n",
       "    <tr>\n",
       "      <th>0</th>\n",
       "      <td>1</td>\n",
       "      <td>0.0000</td>\n",
       "      <td>0.00</td>\n",
       "      <td>0.00</td>\n",
       "      <td>10000.00</td>\n",
       "    </tr>\n",
       "    <tr>\n",
       "      <th>1</th>\n",
       "      <td>1</td>\n",
       "      <td>0.0047</td>\n",
       "      <td>47.00</td>\n",
       "      <td>0.04</td>\n",
       "      <td>10046.96</td>\n",
       "    </tr>\n",
       "    <tr>\n",
       "      <th>2</th>\n",
       "      <td>1</td>\n",
       "      <td>0.0031</td>\n",
       "      <td>31.15</td>\n",
       "      <td>0.02</td>\n",
       "      <td>10078.09</td>\n",
       "    </tr>\n",
       "    <tr>\n",
       "      <th>3</th>\n",
       "      <td>1</td>\n",
       "      <td>-0.0011</td>\n",
       "      <td>-11.09</td>\n",
       "      <td>0.01</td>\n",
       "      <td>10066.99</td>\n",
       "    </tr>\n",
       "    <tr>\n",
       "      <th>4</th>\n",
       "      <td>2</td>\n",
       "      <td>0.0022</td>\n",
       "      <td>22.15</td>\n",
       "      <td>0.02</td>\n",
       "      <td>10089.12</td>\n",
       "    </tr>\n",
       "    <tr>\n",
       "      <th>...</th>\n",
       "      <td>...</td>\n",
       "      <td>...</td>\n",
       "      <td>...</td>\n",
       "      <td>...</td>\n",
       "      <td>...</td>\n",
       "    </tr>\n",
       "    <tr>\n",
       "      <th>119</th>\n",
       "      <td>27</td>\n",
       "      <td>0.0088</td>\n",
       "      <td>97.38</td>\n",
       "      <td>0.07</td>\n",
       "      <td>11163.73</td>\n",
       "    </tr>\n",
       "    <tr>\n",
       "      <th>120</th>\n",
       "      <td>27</td>\n",
       "      <td>0.0088</td>\n",
       "      <td>98.24</td>\n",
       "      <td>0.07</td>\n",
       "      <td>11261.90</td>\n",
       "    </tr>\n",
       "    <tr>\n",
       "      <th>121</th>\n",
       "      <td>28</td>\n",
       "      <td>0.0088</td>\n",
       "      <td>99.10</td>\n",
       "      <td>0.07</td>\n",
       "      <td>11360.93</td>\n",
       "    </tr>\n",
       "    <tr>\n",
       "      <th>122</th>\n",
       "      <td>29</td>\n",
       "      <td>0.0041</td>\n",
       "      <td>46.58</td>\n",
       "      <td>0.03</td>\n",
       "      <td>11407.47</td>\n",
       "    </tr>\n",
       "    <tr>\n",
       "      <th>123</th>\n",
       "      <td>30</td>\n",
       "      <td>-0.0022</td>\n",
       "      <td>-25.10</td>\n",
       "      <td>0.02</td>\n",
       "      <td>11382.36</td>\n",
       "    </tr>\n",
       "  </tbody>\n",
       "</table>\n",
       "<p>124 rows × 5 columns</p>\n",
       "</div>"
      ],
      "text/plain": [
       "     Day  Result  Benefit  Commission     Total\n",
       "0      1  0.0000     0.00        0.00  10000.00\n",
       "1      1  0.0047    47.00        0.04  10046.96\n",
       "2      1  0.0031    31.15        0.02  10078.09\n",
       "3      1 -0.0011   -11.09        0.01  10066.99\n",
       "4      2  0.0022    22.15        0.02  10089.12\n",
       "..   ...     ...      ...         ...       ...\n",
       "119   27  0.0088    97.38        0.07  11163.73\n",
       "120   27  0.0088    98.24        0.07  11261.90\n",
       "121   28  0.0088    99.10        0.07  11360.93\n",
       "122   29  0.0041    46.58        0.03  11407.47\n",
       "123   30 -0.0022   -25.10        0.02  11382.36\n",
       "\n",
       "[124 rows x 5 columns]"
      ]
     },
     "execution_count": 1,
     "metadata": {},
     "output_type": "execute_result"
    }
   ],
   "source": [
    "import pandas as pd\n",
    "import matplotlib.pyplot as plt\n",
    "import seaborn as sns\n",
    "df = pd.read_csv('btc_strategy_demo.csv')\n",
    "df"
   ]
  },
  {
   "cell_type": "markdown",
   "id": "b06999f4",
   "metadata": {},
   "source": [
    "Is the data format adequate? I used Pandas .dtypes to know what type of data is in the csv file."
   ]
  },
  {
   "cell_type": "code",
   "execution_count": 2,
   "id": "8c2a4db5",
   "metadata": {},
   "outputs": [
    {
     "data": {
      "text/plain": [
       "Day             int64\n",
       "Result        float64\n",
       "Benefit       float64\n",
       "Commission    float64\n",
       "Total         float64\n",
       "dtype: object"
      ]
     },
     "execution_count": 2,
     "metadata": {},
     "output_type": "execute_result"
    }
   ],
   "source": [
    "df.dtypes"
   ]
  },
  {
   "cell_type": "markdown",
   "id": "cc55ef73",
   "metadata": {},
   "source": [
    "There is no need to have the **first row** on the data set, since it doesn'r represent a trade itself and would distort the averages and further calculations. I use Panda's .iloc in order to drop rows."
   ]
  },
  {
   "cell_type": "code",
   "execution_count": 3,
   "id": "9041f19c",
   "metadata": {},
   "outputs": [
    {
     "data": {
      "text/html": [
       "<div>\n",
       "<style scoped>\n",
       "    .dataframe tbody tr th:only-of-type {\n",
       "        vertical-align: middle;\n",
       "    }\n",
       "\n",
       "    .dataframe tbody tr th {\n",
       "        vertical-align: top;\n",
       "    }\n",
       "\n",
       "    .dataframe thead th {\n",
       "        text-align: right;\n",
       "    }\n",
       "</style>\n",
       "<table border=\"1\" class=\"dataframe\">\n",
       "  <thead>\n",
       "    <tr style=\"text-align: right;\">\n",
       "      <th></th>\n",
       "      <th>Day</th>\n",
       "      <th>Result</th>\n",
       "      <th>Benefit</th>\n",
       "      <th>Commission</th>\n",
       "      <th>Total</th>\n",
       "    </tr>\n",
       "  </thead>\n",
       "  <tbody>\n",
       "    <tr>\n",
       "      <th>1</th>\n",
       "      <td>1</td>\n",
       "      <td>0.0047</td>\n",
       "      <td>47.00</td>\n",
       "      <td>0.04</td>\n",
       "      <td>10046.96</td>\n",
       "    </tr>\n",
       "    <tr>\n",
       "      <th>2</th>\n",
       "      <td>1</td>\n",
       "      <td>0.0031</td>\n",
       "      <td>31.15</td>\n",
       "      <td>0.02</td>\n",
       "      <td>10078.09</td>\n",
       "    </tr>\n",
       "    <tr>\n",
       "      <th>3</th>\n",
       "      <td>1</td>\n",
       "      <td>-0.0011</td>\n",
       "      <td>-11.09</td>\n",
       "      <td>0.01</td>\n",
       "      <td>10066.99</td>\n",
       "    </tr>\n",
       "    <tr>\n",
       "      <th>4</th>\n",
       "      <td>2</td>\n",
       "      <td>0.0022</td>\n",
       "      <td>22.15</td>\n",
       "      <td>0.02</td>\n",
       "      <td>10089.12</td>\n",
       "    </tr>\n",
       "    <tr>\n",
       "      <th>5</th>\n",
       "      <td>2</td>\n",
       "      <td>0.0026</td>\n",
       "      <td>26.23</td>\n",
       "      <td>0.02</td>\n",
       "      <td>10115.34</td>\n",
       "    </tr>\n",
       "  </tbody>\n",
       "</table>\n",
       "</div>"
      ],
      "text/plain": [
       "   Day  Result  Benefit  Commission     Total\n",
       "1    1  0.0047    47.00        0.04  10046.96\n",
       "2    1  0.0031    31.15        0.02  10078.09\n",
       "3    1 -0.0011   -11.09        0.01  10066.99\n",
       "4    2  0.0022    22.15        0.02  10089.12\n",
       "5    2  0.0026    26.23        0.02  10115.34"
      ]
     },
     "execution_count": 3,
     "metadata": {},
     "output_type": "execute_result"
    }
   ],
   "source": [
    "df = df.iloc[1:]\n",
    "df.head()"
   ]
  },
  {
   "cell_type": "markdown",
   "id": "461def6e",
   "metadata": {},
   "source": [
    "## Plot 1 \n",
    "**Portfolio Value Over 30 Days in Euros**"
   ]
  },
  {
   "cell_type": "code",
   "execution_count": 4,
   "id": "0343c621",
   "metadata": {},
   "outputs": [
    {
     "data": {
      "image/png": "[encoded data removed]",
      "text/plain": [
       "<Figure size 432x288 with 1 Axes>"
      ]
     },
     "metadata": {},
     "output_type": "display_data"
    }
   ],
   "source": [
    "sns.set_theme(style=\"darkgrid\")\n",
    "sns.lineplot(x=\"Day\", y=\"Total\", data=df, ci=None).set(title='Portfolio Value Over 30 Days in €')\n",
    "plt.savefig(\"value_evolution.png\",format='png',dpi=300)"
   ]
  },
  {
   "cell_type": "markdown",
   "id": "456be295",
   "metadata": {},
   "source": [
    "## Plot 2\n",
    "**Percentaje of Wins and Loses in Positions taken**\n",
    "First I need to calculate how many positions generated profit (.gt(0)  --> greater than Zero) and how many generted loses (.lt(0) --> lower than Zero). A data frame is created in order to plot it."
   ]
  },
  {
   "cell_type": "code",
   "execution_count": 5,
   "id": "88a12877",
   "metadata": {},
   "outputs": [
    {
     "data": {
      "image/png": "[encoded data removed]",
      "text/plain": [
       "<Figure size 432x288 with 1 Axes>"
      ]
     },
     "metadata": {},
     "output_type": "display_data"
    }
   ],
   "source": [
    "positive = df['Result'].gt(0).sum()\n",
    "negative = df['Result'].lt(0).sum()\n",
    "data = [positive,negative]\n",
    "\n",
    "labels = [\"Wins\",\"Loses\"]\n",
    "colors = sns.color_palette('pastel')[0:2]\n",
    "plt.pie(data, labels = labels, colors = colors, autopct='%.0f%%')\n",
    "plt.savefig(\"wins_loses.png\",format='png',dpi=300)\n",
    "plt.show()"
   ]
  },
  {
   "cell_type": "markdown",
   "id": "bbc0018f",
   "metadata": {},
   "source": [
    "In order to create the next plot, a **new data frame** is created where we can observe in one column the **average benefit each day** and another colum where the **total average benefit** is showed."
   ]
  },
  {
   "cell_type": "code",
   "execution_count": 6,
   "id": "a9d394d2",
   "metadata": {},
   "outputs": [
    {
     "name": "stderr",
     "output_type": "stream",
     "text": [
      "/var/folders/xc/p1vn9pj537x8bjlw0zlhgh0r0000gn/T/ipykernel_89019/1994231351.py:4: SettingWithCopyWarning: \n",
      "A value is trying to be set on a copy of a slice from a DataFrame.\n",
      "Try using .loc[row_indexer,col_indexer] = value instead\n",
      "\n",
      "See the caveats in the documentation: https://pandas.pydata.org/pandas-docs/stable/user_guide/indexing.html#returning-a-view-versus-a-copy\n",
      "  df_new['Avg_Benefit_Day'] = df_new['Benefit'].mean()\n"
     ]
    },
    {
     "data": {
      "text/html": [
       "<div>\n",
       "<style scoped>\n",
       "    .dataframe tbody tr th:only-of-type {\n",
       "        vertical-align: middle;\n",
       "    }\n",
       "\n",
       "    .dataframe tbody tr th {\n",
       "        vertical-align: top;\n",
       "    }\n",
       "\n",
       "    .dataframe thead th {\n",
       "        text-align: right;\n",
       "    }\n",
       "</style>\n",
       "<table border=\"1\" class=\"dataframe\">\n",
       "  <thead>\n",
       "    <tr style=\"text-align: right;\">\n",
       "      <th></th>\n",
       "      <th>Day</th>\n",
       "      <th>Avg_Benefit_Day</th>\n",
       "      <th>Avg_Total</th>\n",
       "      <th>Zero_Line</th>\n",
       "    </tr>\n",
       "  </thead>\n",
       "  <tbody>\n",
       "    <tr>\n",
       "      <th>0</th>\n",
       "      <td>1</td>\n",
       "      <td>22.353333</td>\n",
       "      <td>13.368048</td>\n",
       "      <td>0</td>\n",
       "    </tr>\n",
       "    <tr>\n",
       "      <th>3</th>\n",
       "      <td>2</td>\n",
       "      <td>13.930000</td>\n",
       "      <td>13.368048</td>\n",
       "      <td>0</td>\n",
       "    </tr>\n",
       "    <tr>\n",
       "      <th>9</th>\n",
       "      <td>3</td>\n",
       "      <td>6.614000</td>\n",
       "      <td>13.368048</td>\n",
       "      <td>0</td>\n",
       "    </tr>\n",
       "    <tr>\n",
       "      <th>14</th>\n",
       "      <td>4</td>\n",
       "      <td>2.208000</td>\n",
       "      <td>13.368048</td>\n",
       "      <td>0</td>\n",
       "    </tr>\n",
       "    <tr>\n",
       "      <th>24</th>\n",
       "      <td>5</td>\n",
       "      <td>-8.081250</td>\n",
       "      <td>13.368048</td>\n",
       "      <td>0</td>\n",
       "    </tr>\n",
       "  </tbody>\n",
       "</table>\n",
       "</div>"
      ],
      "text/plain": [
       "    Day  Avg_Benefit_Day  Avg_Total  Zero_Line\n",
       "0     1        22.353333  13.368048          0\n",
       "3     2        13.930000  13.368048          0\n",
       "9     3         6.614000  13.368048          0\n",
       "14    4         2.208000  13.368048          0\n",
       "24    5        -8.081250  13.368048          0"
      ]
     },
     "execution_count": 6,
     "metadata": {},
     "output_type": "execute_result"
    }
   ],
   "source": [
    "final = []\n",
    "for day in range (1,31):\n",
    "    df_new =df[df['Day'] == day]\n",
    "    df_new['Avg_Benefit_Day'] = df_new['Benefit'].mean()\n",
    "    final.append(df_new)\n",
    "    \n",
    "final_df = pd.concat(final, ignore_index=True)\n",
    "\n",
    "avg_benf_df = final_df[['Day','Avg_Benefit_Day']].drop_duplicates()\n",
    "avg_benf_df['Avg_Total'] = avg_benf_df['Avg_Benefit_Day'].mean()\n",
    "avg_benf_df['Zero_Line'] = 0\n",
    "avg_benf_df.head()"
   ]
  },
  {
   "cell_type": "markdown",
   "id": "9bc6374f",
   "metadata": {},
   "source": [
    "## Plot 3\n",
    "**Average Benefits Obtained each Day & Total Average in €**"
   ]
  },
  {
   "cell_type": "code",
   "execution_count": 7,
   "id": "cacb932d",
   "metadata": {},
   "outputs": [
    {
     "data": {
      "image/png": "[encoded data removed]",
      "text/plain": [
       "<Figure size 432x288 with 1 Axes>"
      ]
     },
     "metadata": {},
     "output_type": "display_data"
    }
   ],
   "source": [
    "fig = plt.figure\n",
    "ax1 = plt.subplot(111)\n",
    "plt.title(\"Average Benefits Obtained each Day & Total Average in €\")\n",
    "ax1.plot(avg_benf_df.Day, avg_benf_df.Avg_Benefit_Day, linewidth=2, label='Daily Average')\n",
    "ax1.plot(avg_benf_df.Day, avg_benf_df.Avg_Total, '--', label='Total Average')\n",
    "plt.xlabel(\"Days\")\n",
    "plt.ylabel(\"Euros\")\n",
    "plt.legend(loc='best')\n",
    "ax1.plot(avg_benf_df.Day, avg_benf_df.Zero_Line, color='k', linewidth=0.7)\n",
    "plt.savefig(\"average_graph.png\",format='png',dpi=300)\n",
    "plt.show()"
   ]
  },
  {
   "cell_type": "markdown",
   "id": "9980c369",
   "metadata": {},
   "source": [
    "Final calculations for the **Return Of Investment** over the 30 days, a posible **Annual Percentage Yield** and the **average number of positions** taken every day."
   ]
  },
  {
   "cell_type": "code",
   "execution_count": 8,
   "id": "b8a2b068",
   "metadata": {},
   "outputs": [
    {
     "data": {
      "text/plain": [
       "13.823600000000006"
      ]
     },
     "execution_count": 8,
     "metadata": {},
     "output_type": "execute_result"
    }
   ],
   "source": [
    "final = df.at[123,'Total']\n",
    "roi = (((final)-10000)*100)/10000\n",
    "roi"
   ]
  },
  {
   "cell_type": "code",
   "execution_count": 9,
   "id": "a87118e4",
   "metadata": {},
   "outputs": [
    {
     "data": {
      "text/plain": [
       "168.1871333333334"
      ]
     },
     "execution_count": 9,
     "metadata": {},
     "output_type": "execute_result"
    }
   ],
   "source": [
    "apy = (roi*365)/30\n",
    "apy"
   ]
  },
  {
   "cell_type": "code",
   "execution_count": 10,
   "id": "a5fead7e",
   "metadata": {},
   "outputs": [
    {
     "data": {
      "text/plain": [
       "4.1"
      ]
     },
     "execution_count": 10,
     "metadata": {},
     "output_type": "execute_result"
    }
   ],
   "source": [
    "day_count = df.pivot_table(columns=['Day'], aggfunc='size')\n",
    "day_count = day_count.reset_index()\n",
    "day_count[0].mean()"
   ]
  }
 ],
 "metadata": {
  "kernelspec": {
   "display_name": "Python 3 (ipykernel)",
   "language": "python",
   "name": "python3"
  },
  "language_info": {
   "codemirror_mode": {
    "name": "ipython",
    "version": 3
   },
   "file_extension": ".py",
   "mimetype": "text/x-python",
   "name": "python",
   "nbconvert_exporter": "python",
   "pygments_lexer": "ipython3",
   "version": "3.9.7"
  }
 },
 "nbformat": 4,
 "nbformat_minor": 5
}
