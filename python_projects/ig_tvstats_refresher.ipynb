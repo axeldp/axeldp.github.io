{
 "cells": [
  {
   "cell_type": "markdown",
   "id": "bc1d45a5",
   "metadata": {},
   "source": [
    "# Innovation Group Statistics Refresher"
   ]
  },
  {
   "cell_type": "markdown",
   "id": "7d638aa0",
   "metadata": {},
   "source": [
    "Let's import all necessary **libraries**!"
   ]
  },
  {
   "cell_type": "code",
   "execution_count": null,
   "id": "42be55c3",
   "metadata": {},
   "outputs": [],
   "source": [
    "from selenium import webdriver\n",
    "import schedule\n",
    "import time"
   ]
  },
  {
   "cell_type": "markdown",
   "id": "05ed381a",
   "metadata": {},
   "source": [
    "**First step** is to execute the **Selenium driver** for the browser used, in this case it's Chorme (the path of the file is needed in order to execute it). **After** we need to acces the **URL** where the live team production statistics are displayed."
   ]
  },
  {
   "cell_type": "code",
   "execution_count": null,
   "id": "dea3d97c",
   "metadata": {},
   "outputs": [],
   "source": [
    "driver = webdriver.Chrome('local/user/desktop/chromdriver.exe')\n",
    "\n",
    "driver.get(\"http://innovationgroup.com/prductionstats\")"
   ]
  },
  {
   "cell_type": "markdown",
   "id": "7fe1942a",
   "metadata": {},
   "source": [
    "We define here then the Selenium **Function** that will refresh our desired URL and **schedule** it to refresh every 1 minute."
   ]
  },
  {
   "cell_type": "code",
   "execution_count": null,
   "id": "d0834c0e",
   "metadata": {},
   "outputs": [],
   "source": [
    "def func():\n",
    "    driver.refresh()\n",
    "\n",
    "schdule.every(1).minutes.do(func)"
   ]
  },
  {
   "cell_type": "markdown",
   "id": "9a0ec9dc",
   "metadata": {},
   "source": [
    "A **loop** is created in order to run the schedule function **non-stop**. Quiting the script will be done manually when the working day is over."
   ]
  },
  {
   "cell_type": "code",
   "execution_count": null,
   "id": "2c82c558",
   "metadata": {},
   "outputs": [],
   "source": [
    "while True:\n",
    "    schdule.run_pending()\n",
    "    time.sleep(1)"
   ]
  }
 ],
 "metadata": {
  "kernelspec": {
   "display_name": "Python 3 (ipykernel)",
   "language": "python",
   "name": "python3"
  },
  "language_info": {
   "codemirror_mode": {
    "name": "ipython",
    "version": 3
   },
   "file_extension": ".py",
   "mimetype": "text/x-python",
   "name": "python",
   "nbconvert_exporter": "python",
   "pygments_lexer": "ipython3",
   "version": "3.9.7"
  }
 },
 "nbformat": 4,
 "nbformat_minor": 5
}
